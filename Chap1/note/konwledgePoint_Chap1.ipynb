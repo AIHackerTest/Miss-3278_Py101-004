{
 "cells": [
  {
   "cell_type": "markdown",
   "metadata": {},
   "source": [
    "# Chap1 任务涉及到的知识点汇总\n",
    "\n",
    "### with 语句\n",
    "\n",
    "### 列表的双重迭代（List Comprehensions）\n",
    "\n",
    "### 读写文件\n",
    "\n",
    "### 字符串的移除和切片\n",
    "\n",
    "### 正则表达式\n",
    "\n",
    "### \\__name__\n",
    "\n",
    "### 合法输入\n"
   ]
  },
  {
   "cell_type": "code",
   "execution_count": null,
   "metadata": {
    "collapsed": true
   },
   "outputs": [],
   "source": []
  },
  {
   "cell_type": "code",
   "execution_count": null,
   "metadata": {
    "collapsed": true
   },
   "outputs": [],
   "source": []
  }
 ],
 "metadata": {
  "kernelspec": {
   "display_name": "Python 3",
   "language": "python",
   "name": "python3"
  },
  "language_info": {
   "codemirror_mode": {
    "name": "ipython",
    "version": 3
   },
   "file_extension": ".py",
   "mimetype": "text/x-python",
   "name": "python",
   "nbconvert_exporter": "python",
   "pygments_lexer": "ipython3",
   "version": "3.6.1"
  }
 },
 "nbformat": 4,
 "nbformat_minor": 2
}
