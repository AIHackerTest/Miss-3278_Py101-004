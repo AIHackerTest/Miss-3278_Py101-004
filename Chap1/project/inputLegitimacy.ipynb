{
 "cells": [
  {
   "cell_type": "code",
   "execution_count": 17,
   "metadata": {},
   "outputs": [
    {
     "name": "stdout",
     "output_type": "stream",
     "text": [
      "请输入您要查询的城市名称： 沈 阳 \n"
     ]
    },
    {
     "ename": "KeyError",
     "evalue": "'沈 阳 '",
     "output_type": "error",
     "traceback": [
      "\u001b[0;31m---------------------------------------------------------------------------\u001b[0m",
      "\u001b[0;31mKeyError\u001b[0m                                  Traceback (most recent call last)",
      "\u001b[0;32m<ipython-input-17-ec3e10b2a320>\u001b[0m in \u001b[0;36m<module>\u001b[0;34m()\u001b[0m\n\u001b[1;32m      8\u001b[0m \u001b[0mcity\u001b[0m \u001b[0;34m=\u001b[0m \u001b[0minput\u001b[0m\u001b[0;34m(\u001b[0m\u001b[0;34m\"请输入您要查询的城市名称： \"\u001b[0m\u001b[0;34m)\u001b[0m\u001b[0;34m\u001b[0m\u001b[0m\n\u001b[1;32m      9\u001b[0m \u001b[0;34m\u001b[0m\u001b[0m\n\u001b[0;32m---> 10\u001b[0;31m \u001b[0mprint\u001b[0m\u001b[0;34m(\u001b[0m\u001b[0manswerDict\u001b[0m\u001b[0;34m[\u001b[0m\u001b[0mcity\u001b[0m\u001b[0;34m]\u001b[0m\u001b[0;34m)\u001b[0m\u001b[0;34m\u001b[0m\u001b[0m\n\u001b[0m",
      "\u001b[0;31mKeyError\u001b[0m: '沈 阳 '"
     ]
    }
   ],
   "source": [
    "weatherDict = {}\n",
    "f = open('/Users/lixun/Python/Py101-004/Chap1/resource/weather_info.txt', 'r') \n",
    "\n",
    "for line in f:\n",
    "    v = line.strip().split(',')\n",
    "    weatherDict[v[0]] = v[1]\n",
    "\n",
    "city = input(\"请输入您要查询的城市名称： \")\n",
    "\n",
    "print(answerDict[city])"
   ]
  },
  {
   "cell_type": "code",
   "execution_count": 47,
   "metadata": {},
   "outputs": [
    {
     "name": "stdout",
     "output_type": "stream",
     "text": [
      "请输入您要查询的城市名称： 神 先\n",
      "True\n",
      "sorry\n",
      "haha\n"
     ]
    }
   ],
   "source": [
    "import re\n",
    "\n",
    "city = input(\"请输入您要查询的城市名称： \")\n",
    "\n",
    "# 检查是否是中文字符\n",
    "def is_chinese(object):         \n",
    "    if '\\u4e00' <= object<='\\u9fff':\n",
    "        return True\n",
    "    else:\n",
    "        return False\n",
    "\n",
    "is_chinese(city)\n",
    "\n",
    "if not is_chinese(city):\n",
    "    print(False)\n",
    "else:\n",
    "    print(True)\n",
    "\n",
    "# 正则表达式检查是否输入的是 2 - 5 个中文字符    \n",
    "f = re.match(r'^[\\u4E00-\\u9FA5]{2,5}$', city)\n",
    "if f != None:    \n",
    "    print(\"ok\")\n",
    "else:\n",
    "    print(\"sorry\")\n",
    "    \n",
    "# 检查输入是否有空格\n",
    "s = city.isspace()\n",
    "if s == True:\n",
    "    print(\"请去掉空格！\")\n",
    "else:\n",
    "    print(\"haha\")\n",
    "    \n",
    "    \n"
   ]
  },
  {
   "cell_type": "code",
   "execution_count": 4,
   "metadata": {},
   "outputs": [
    {
     "name": "stdout",
     "output_type": "stream",
     "text": [
      "87\n",
      "['87']\n",
      "['87']\n"
     ]
    }
   ],
   "source": [
    "city = input()\n",
    "\n",
    "c = city.split()\n",
    "d = str(c)\n",
    "\n",
    "type(c)\n",
    "type(d)\n",
    "print(c)\n",
    "print(d)"
   ]
  },
  {
   "cell_type": "code",
   "execution_count": 7,
   "metadata": {},
   "outputs": [
    {
     "ename": "TypeError",
     "evalue": "search() missing 1 required positional argument: 'string'",
     "output_type": "error",
     "traceback": [
      "\u001b[0;31m---------------------------------------------------------------------------\u001b[0m",
      "\u001b[0;31mTypeError\u001b[0m                                 Traceback (most recent call last)",
      "\u001b[0;32m<ipython-input-7-caf7945a9396>\u001b[0m in \u001b[0;36m<module>\u001b[0;34m()\u001b[0m\n\u001b[1;32m      1\u001b[0m \u001b[0;32mimport\u001b[0m \u001b[0mre\u001b[0m\u001b[0;34m\u001b[0m\u001b[0m\n\u001b[0;32m----> 2\u001b[0;31m \u001b[0;32mif\u001b[0m \u001b[0mre\u001b[0m\u001b[0;34m.\u001b[0m\u001b[0msearch\u001b[0m\u001b[0;34m(\u001b[0m\u001b[0;34mr\"^\\s+$\"\u001b[0m\u001b[0;34m)\u001b[0m\u001b[0;34m:\u001b[0m\u001b[0;34m\u001b[0m\u001b[0m\n\u001b[0m\u001b[1;32m      3\u001b[0m     \u001b[0mprint\u001b[0m\u001b[0;34m(\u001b[0m\u001b[0;34m\"All Spaces\"\u001b[0m\u001b[0;34m)\u001b[0m\u001b[0;34m\u001b[0m\u001b[0m\n",
      "\u001b[0;31mTypeError\u001b[0m: search() missing 1 required positional argument: 'string'"
     ]
    }
   ],
   "source": [
    "import re\n",
    "if re.search(r\"^\\s+$\"):\n",
    "    print(\"All Spaces\")"
   ]
  },
  {
   "cell_type": "code",
   "execution_count": null,
   "metadata": {
    "collapsed": true
   },
   "outputs": [],
   "source": []
  },
  {
   "cell_type": "code",
   "execution_count": null,
   "metadata": {
    "collapsed": true
   },
   "outputs": [],
   "source": []
  },
  {
   "cell_type": "code",
   "execution_count": null,
   "metadata": {
    "collapsed": true
   },
   "outputs": [],
   "source": []
  },
  {
   "cell_type": "code",
   "execution_count": null,
   "metadata": {
    "collapsed": true
   },
   "outputs": [],
   "source": []
  },
  {
   "cell_type": "code",
   "execution_count": null,
   "metadata": {
    "collapsed": true
   },
   "outputs": [],
   "source": []
  }
 ],
 "metadata": {
  "kernelspec": {
   "display_name": "Python 3",
   "language": "python",
   "name": "python3"
  },
  "language_info": {
   "codemirror_mode": {
    "name": "ipython",
    "version": 3
   },
   "file_extension": ".py",
   "mimetype": "text/x-python",
   "name": "python",
   "nbconvert_exporter": "python",
   "pygments_lexer": "ipython3",
   "version": "3.6.1"
  }
 },
 "nbformat": 4,
 "nbformat_minor": 2
}
