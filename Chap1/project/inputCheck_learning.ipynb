{
 "cells": [
  {
   "cell_type": "markdown",
   "metadata": {},
   "source": [
    "### 转载自：[【Python】统计字符串中英文、空格、数字、标点个数 - Alan Lee - CSDN博客](http://blog.csdn.net/u010099080/article/details/65981593)"
   ]
  },
  {
   "cell_type": "code",
   "execution_count": 4,
   "metadata": {},
   "outputs": [
    {
     "name": "stdout",
     "output_type": "stream",
     "text": [
      "上面是引用了官网的介绍，意思就是说 TensorBoard 就是一个方便你理解、调试、优化 TensorFlow 程序的可视化工具，你可以可视化你的 TensorFlow graph、学习参数以及其他数据比如图像。\n",
      "\n",
      "该字符串共有 107 个字符，其中有 59 个汉字，36 个英文，6 个空格，0 个数字，6 个标点符号。\n"
     ]
    }
   ],
   "source": [
    "# coding: utf-8\n",
    "\n",
    "import string\n",
    "from collections import namedtuple\n",
    "\n",
    "\n",
    "def str_count(s):\n",
    "    '''找出字符串中的中英文、空格、数字、标点符号个数'''\n",
    "\n",
    "    count_en = count_dg = count_sp = count_zh = count_pu = 0\n",
    "    s_len = len(s)\n",
    "    for c in s:\n",
    "        if c in string.ascii_letters:\n",
    "            count_en += 1\n",
    "        elif c.isdigit():\n",
    "            count_dg += 1\n",
    "        elif c.isspace():\n",
    "            count_sp += 1\n",
    "        elif c.isalpha():\n",
    "            count_zh += 1\n",
    "        else:\n",
    "            count_pu += 1\n",
    "    total_chars = count_zh + count_en + count_sp + count_dg + count_pu\n",
    "    if total_chars == s_len:\n",
    "        return namedtuple('Count', ['total', 'zh', 'en', 'space', 'digit', 'punc'])(s_len, count_zh, count_en, count_sp, count_dg, count_pu)\n",
    "    else:\n",
    "        print('Something is wrong!')\n",
    "        return None\n",
    "    return None\n",
    "\n",
    "\n",
    "s = '上面是引用了官网的介绍，意思就是说 TensorBoard 就是一个方便你理解、调试、优化 TensorFlow 程序的可视化工具，你可以可视化你的 TensorFlow graph、学习参数以及其他数据比如图像。'\n",
    "count = str_count(s)\n",
    "print(s, end='\\n\\n')\n",
    "print('该字符串共有 {} 个字符，其中有 {} 个汉字，{} 个英文，{} 个空格，{} 个数字，{} 个标点符号。'.format(count.total, count.zh, count.en, count.space, count.digit, count.punc))\n"
   ]
  },
  {
   "cell_type": "code",
   "execution_count": null,
   "metadata": {
    "collapsed": true
   },
   "outputs": [],
   "source": [
    "import string\n",
    "from collections import namedtuple\n",
    "\n",
    "\n",
    "def str_count(s):\n",
    "    '''找出字符串中的中英文、空格、数字、标点符号个数'''\n",
    "    city = input(\"请输入您想查询的城市：\")\n",
    "    City = city.strip()\n",
    "    count_en = count_dg = count_sp = count_zh = count_pu = 0\n",
    "    s_len = len(City)\n",
    "    for c in City:\n",
    "        if c in string.ascii_letters:\n",
    "            print(\"请输入中文！\") # 英文字母\n",
    "        elif c.isdigit():\n",
    "            print(\"数字错误！请输入中文！\") # 数字\n",
    "        elif c.isspace():\n",
    "            print(\"请去掉空格！\") # 空格\n",
    "        elif c.isalpha():\n",
    "            count_zh += 1 # 中文\n",
    "        else:\n",
    "            count_pu += 1\n",
    "    total_chars = count_zh + count_en + count_sp + count_dg + count_pu\n",
    "    if total_chars == s_len:\n",
    "        return namedtuple('Count', ['total', 'zh', 'en', 'space', 'digit', 'punc'])(s_len, count_zh, count_en, count_sp, count_dg, count_pu)\n",
    "    else:\n",
    "        print('Something is wrong!')\n",
    "        return None\n",
    "    return None\n",
    "\n"
   ]
  },
  {
   "cell_type": "code",
   "execution_count": 15,
   "metadata": {},
   "outputs": [
    {
     "name": "stdout",
     "output_type": "stream",
     "text": [
      "请输入您想查询的城市：北 京\n",
      "北 京\n",
      "\n",
      "该字符串共有 3 个字符，其中有 2 个汉字，0 个英文，1 个空格，0 个数字，0 个标点符号。\n",
      "请去掉空格！\n"
     ]
    }
   ],
   "source": [
    "import string\n",
    "from collections import namedtuple\n",
    "\n",
    "\n",
    "def str_count(s):\n",
    "    '''找出字符串中的中英文、空格、数字、标点符号个数'''\n",
    "\n",
    "    count_en = count_dg = count_sp = count_zh = count_pu = 0\n",
    "    s_len = len(s)\n",
    "    for c in s:\n",
    "        if c in string.ascii_letters:\n",
    "            count_en += 1\n",
    "        elif c.isdigit():\n",
    "            count_dg += 1\n",
    "        elif c.isspace():\n",
    "            count_sp += 1\n",
    "        elif c.isalpha():\n",
    "            count_zh += 1\n",
    "        else:\n",
    "            count_pu += 1\n",
    "    total_chars = count_zh + count_en + count_sp + count_dg + count_pu\n",
    "    if total_chars == s_len:\n",
    "        return namedtuple('Count', ['total', 'zh', 'en', 'space', 'digit', 'punc'])(s_len, count_zh, count_en, count_sp, count_dg, count_pu)\n",
    "    else:\n",
    "        print('Something is wrong!')\n",
    "        return None\n",
    "    return None\n",
    "\n",
    "city = input(\"请输入您想查询的城市：\")\n",
    "s = city.strip()\n",
    "count = str_count(s)\n",
    "print(s, end='\\n\\n')\n",
    "print('该字符串共有 {} 个字符，其中有 {} 个汉字，{} 个英文，{} 个空格，{} 个数字，{} 个标点符号。'.format(count.total, count.zh, count.en, count.space, count.digit, count.punc))\n",
    "\n",
    "if count.en != 0:\n",
    "    print(\"请输入中文！\")\n",
    "elif count.digit != 0:\n",
    "    print(\"请不要输入数字！\")\n",
    "elif count.space != 0:\n",
    "    print(\"请去掉空格！\")\n",
    "elif count.punc != 0:\n",
    "    print(\"请去掉标点符号！\")\n",
    "else:\n",
    "    print(\"ok\")\n",
    "    \n",
    "\n"
   ]
  },
  {
   "cell_type": "code",
   "execution_count": 19,
   "metadata": {},
   "outputs": [
    {
     "name": "stdout",
     "output_type": "stream",
     "text": [
      "请输入您想查询的城市：123r\n",
      "123r\n",
      "\n",
      "该字符串共有 4 个字符，其中有 0 个汉字，1 个英文，0 个空格，3 个数字，0 个标点符号。\n",
      "请输入中文字符！不要有英文字符、数字！\n"
     ]
    }
   ],
   "source": [
    "import string\n",
    "from collections import namedtuple\n",
    "\n",
    "\n",
    "def str_count(s):\n",
    "    '''找出字符串中的中英文、空格、数字、标点符号个数'''\n",
    "\n",
    "    count_en = count_dg = count_sp = count_zh = count_pu = 0\n",
    "    s_len = len(s)\n",
    "    for c in s:\n",
    "        if c in string.ascii_letters:\n",
    "            count_en += 1\n",
    "        elif c.isdigit():\n",
    "            count_dg += 1\n",
    "        elif c.isspace():\n",
    "            count_sp += 1\n",
    "        elif c.isalpha():\n",
    "            count_zh += 1\n",
    "        else:\n",
    "            count_pu += 1\n",
    "    total_chars = count_zh + count_en + count_sp + count_dg + count_pu\n",
    "    if total_chars == s_len:\n",
    "        return namedtuple('Count', ['total', 'zh', 'en', 'space', 'digit', 'punc'])(s_len, count_zh, count_en, count_sp, count_dg, count_pu)\n",
    "    else:\n",
    "        print('Something is wrong!')\n",
    "        return None\n",
    "    return None\n",
    "\n",
    "city = input(\"请输入您想查询的城市：\")\n",
    "s = city.strip()\n",
    "count = str_count(s)\n",
    "print(s, end='\\n\\n')\n",
    "print('该字符串共有 {} 个字符，其中有 {} 个汉字，{} 个英文，{} 个空格，{} 个数字，{} 个标点符号。'.format(count.total, count.zh, count.en, count.space, count.digit, count.punc))\n",
    "\n",
    "if count.en != 0 or count.digit != 0:\n",
    "    print(\"请输入中文字符！不要有英文字符、数字！\")\n",
    "elif count.space != 0:\n",
    "    print(\"请去掉空格！\")\n",
    "elif count.punc != 0:\n",
    "    print(\"请去掉标点符号！\")\n",
    "else:\n",
    "    print(\"ok\")\n",
    "    \n",
    "\n"
   ]
  },
  {
   "cell_type": "code",
   "execution_count": null,
   "metadata": {
    "collapsed": true
   },
   "outputs": [],
   "source": []
  },
  {
   "cell_type": "code",
   "execution_count": null,
   "metadata": {
    "collapsed": true
   },
   "outputs": [],
   "source": []
  }
 ],
 "metadata": {
  "kernelspec": {
   "display_name": "Python 3",
   "language": "python",
   "name": "python3"
  },
  "language_info": {
   "codemirror_mode": {
    "name": "ipython",
    "version": 3
   },
   "file_extension": ".py",
   "mimetype": "text/x-python",
   "name": "python",
   "nbconvert_exporter": "python",
   "pygments_lexer": "ipython3",
   "version": "3.6.1"
  }
 },
 "nbformat": 4,
 "nbformat_minor": 2
}
