{
 "cells": [
  {
   "cell_type": "code",
   "execution_count": null,
   "metadata": {
    "collapsed": true
   },
   "outputs": [],
   "source": [
    "import re, os"
   ]
  },
  {
   "cell_type": "code",
   "execution_count": 2,
   "metadata": {},
   "outputs": [
    {
     "name": "stdout",
     "output_type": "stream",
     "text": [
      "中国城市天气查询系统说明\n",
      "1. \n",
      "2.\n",
      "3.\n",
      "4.\n",
      "        \n",
      "请输入您想查询的城市：北京\n",
      "您查询的城市为： 北京\n",
      "请输入您想查询的城市：北 京\n",
      "您查询的城市为： 北 京\n"
     ]
    },
    {
     "ename": "NameError",
     "evalue": "name 'record' is not defined",
     "output_type": "error",
     "traceback": [
      "\u001b[0;31m---------------------------------------------------------------------------\u001b[0m",
      "\u001b[0;31mNameError\u001b[0m                                 Traceback (most recent call last)",
      "\u001b[0;32m<ipython-input-2-169d503221ac>\u001b[0m in \u001b[0;36m<module>\u001b[0;34m()\u001b[0m\n\u001b[1;32m     90\u001b[0m     \u001b[0mcityWeather\u001b[0m\u001b[0;34m.\u001b[0m\u001b[0mrun\u001b[0m\u001b[0;34m(\u001b[0m\u001b[0;34m)\u001b[0m\u001b[0;34m\u001b[0m\u001b[0m\n\u001b[1;32m     91\u001b[0m \u001b[0;32mif\u001b[0m \u001b[0m__name__\u001b[0m \u001b[0;34m==\u001b[0m \u001b[0;34m'__main__'\u001b[0m\u001b[0;34m:\u001b[0m\u001b[0;34m\u001b[0m\u001b[0m\n\u001b[0;32m---> 92\u001b[0;31m     \u001b[0mmain\u001b[0m\u001b[0;34m(\u001b[0m\u001b[0;34m)\u001b[0m\u001b[0;34m\u001b[0m\u001b[0m\n\u001b[0m\u001b[1;32m     93\u001b[0m \u001b[0;34m\u001b[0m\u001b[0m\n\u001b[1;32m     94\u001b[0m \u001b[0;34m\u001b[0m\u001b[0m\n",
      "\u001b[0;32m<ipython-input-2-169d503221ac>\u001b[0m in \u001b[0;36mmain\u001b[0;34m()\u001b[0m\n\u001b[1;32m     88\u001b[0m \u001b[0;32mdef\u001b[0m \u001b[0mmain\u001b[0m\u001b[0;34m(\u001b[0m\u001b[0;34m)\u001b[0m\u001b[0;34m:\u001b[0m\u001b[0;34m\u001b[0m\u001b[0m\n\u001b[1;32m     89\u001b[0m     \u001b[0mcityWeather\u001b[0m \u001b[0;34m=\u001b[0m \u001b[0mweather\u001b[0m\u001b[0;34m(\u001b[0m\u001b[0;34m)\u001b[0m\u001b[0;34m\u001b[0m\u001b[0m\n\u001b[0;32m---> 90\u001b[0;31m     \u001b[0mcityWeather\u001b[0m\u001b[0;34m.\u001b[0m\u001b[0mrun\u001b[0m\u001b[0;34m(\u001b[0m\u001b[0;34m)\u001b[0m\u001b[0;34m\u001b[0m\u001b[0m\n\u001b[0m\u001b[1;32m     91\u001b[0m \u001b[0;32mif\u001b[0m \u001b[0m__name__\u001b[0m \u001b[0;34m==\u001b[0m \u001b[0;34m'__main__'\u001b[0m\u001b[0;34m:\u001b[0m\u001b[0;34m\u001b[0m\u001b[0m\n\u001b[1;32m     92\u001b[0m     \u001b[0mmain\u001b[0m\u001b[0;34m(\u001b[0m\u001b[0;34m)\u001b[0m\u001b[0;34m\u001b[0m\u001b[0m\n",
      "\u001b[0;32m<ipython-input-2-169d503221ac>\u001b[0m in \u001b[0;36mrun\u001b[0;34m(self)\u001b[0m\n\u001b[1;32m     81\u001b[0m         \u001b[0;32mwhile\u001b[0m \u001b[0;32mnot\u001b[0m \u001b[0mself\u001b[0m\u001b[0;34m.\u001b[0m\u001b[0mtheCity\u001b[0m\u001b[0;34m:\u001b[0m\u001b[0;34m\u001b[0m\u001b[0m\n\u001b[1;32m     82\u001b[0m             \u001b[0mcity\u001b[0m \u001b[0;34m=\u001b[0m \u001b[0mself\u001b[0m\u001b[0;34m.\u001b[0m\u001b[0mcityInput\u001b[0m\u001b[0;34m(\u001b[0m\u001b[0;34m)\u001b[0m\u001b[0;34m\u001b[0m\u001b[0m\n\u001b[0;32m---> 83\u001b[0;31m             \u001b[0mself\u001b[0m\u001b[0;34m.\u001b[0m\u001b[0mresult\u001b[0m\u001b[0;34m(\u001b[0m\u001b[0mself\u001b[0m\u001b[0;34m,\u001b[0m \u001b[0mrecord\u001b[0m\u001b[0;34m,\u001b[0m \u001b[0mweatherNote\u001b[0m\u001b[0;34m)\u001b[0m\u001b[0;34m\u001b[0m\u001b[0m\n\u001b[0m\u001b[1;32m     84\u001b[0m             \u001b[0mself\u001b[0m\u001b[0;34m.\u001b[0m\u001b[0mrecord_txt\u001b[0m\u001b[0;34m(\u001b[0m\u001b[0mself\u001b[0m\u001b[0;34m,\u001b[0m \u001b[0mcity\u001b[0m\u001b[0;34m,\u001b[0m \u001b[0mresult\u001b[0m\u001b[0;34m)\u001b[0m\u001b[0;34m\u001b[0m\u001b[0m\n\u001b[1;32m     85\u001b[0m \u001b[0;34m\u001b[0m\u001b[0m\n",
      "\u001b[0;31mNameError\u001b[0m: name 'record' is not defined"
     ]
    }
   ],
   "source": [
    "class weather:\n",
    "    \n",
    "    # 初始函数\n",
    "    def __init__(self):\n",
    "        self.usrInput = [] # 用户查询城市\n",
    "        self.results = []  # 查询结果\n",
    "        self.help = \"\"     # help 文档\n",
    "        self.record = []   # 查询记录\n",
    "        self.theCity = False\n",
    "        \n",
    "    # 打印说明\n",
    "    def printExplain(self):\n",
    "        print(\"\"\"中国城市天气查询系统说明\n",
    "1. \n",
    "2.\n",
    "3.\n",
    "4.\n",
    "        \"\"\")\n",
    "        \n",
    "\n",
    "    # 用户输入并写入记录\n",
    "    def cityInput(self):\n",
    "        while True:\n",
    "            city = input(\"请输入您想查询的城市：\")\n",
    "            print(\"您查询的城市为： \" + city)\n",
    "            if not self.is_chinese(city):\n",
    "                print(\"输入错误，请输入中文字符。\")\n",
    "                continue\n",
    "            elif not self.is_space(city):\n",
    "                print(\"输入错误，请去掉空格！\")\n",
    "                continue\n",
    "                \n",
    "            else:\n",
    "                self.record.append(city)\n",
    "                return city\n",
    "        \n",
    "    # 判断是否为中文\n",
    "    def is_chinese(self, city):         \n",
    "        if not '\\u4e00' <= city <='\\u9fff':\n",
    "            return False\n",
    "        return True\n",
    "\n",
    "    # 判断是否有空格\n",
    "    def is_space(self, city):\n",
    "        s = city.isspace()\n",
    "        if s == True:\n",
    "            return False\n",
    "        return True\n",
    "    \n",
    "    # 判断查询是否在库中\n",
    "    def hereOrnot(self, city):\n",
    "        c = city.split()\n",
    "        City = c[0]\n",
    "        if City not in self.weatherDict.keys():\n",
    "            return False\n",
    "        return True\n",
    "            \n",
    "\n",
    "    # 生成字典\n",
    "    def weatherDict(self):\n",
    "        weather = {}\n",
    "        f = open('/Users/lixun/Python/Py101-004/Chap1/resource/weather_info.txt', 'r') \n",
    "        for line in f:\n",
    "            v = line.strip().split(',')\n",
    "            weather[v[0]] = v[1]\n",
    "        self.weatherNote = weatherDict\n",
    "    \n",
    "    # 查询结果\n",
    "    def result(self, record, weatherNote):\n",
    "        if record in weatherNote.keys():\n",
    "            r = str(record)\n",
    "            print(weatherNote[r])\n",
    "        else:\n",
    "            print(\"您查询的城市不在库中。\")\n",
    "        \n",
    "    # 结果写入文件\n",
    "    def record_txt(self, city, result):\n",
    "        inputFile = open(\"record.txt\", 'a')\n",
    "        aha = True\n",
    "        while aha:\n",
    "            if city != \"bye\":\n",
    "                inputFile.write('%s: %s %s' % (city, result, os.linesep))\n",
    "            else:\n",
    "                inputFile.close()\n",
    "                aha = False\n",
    "                \n",
    "    # 运行\n",
    "    def run(self):\n",
    "        self.printExplain()\n",
    "        self.cityInput()\n",
    "        while not self.theCity:\n",
    "            city = self.cityInput()\n",
    "            self.result(self, record, weatherNote)\n",
    "            self.record_txt(self, city, result)\n",
    "        \n",
    "        \n",
    "# 主函数\n",
    "def main():\n",
    "    cityWeather = weather()\n",
    "    cityWeather.run()   \n",
    "if __name__ == '__main__':\n",
    "    main()\n",
    "        \n",
    "\n",
    "        \n",
    "\n",
    "        \n",
    "\n",
    "\n"
   ]
  },
  {
   "cell_type": "code",
   "execution_count": null,
   "metadata": {
    "collapsed": true
   },
   "outputs": [],
   "source": [
    "        \n",
    "# 判断是否符合汉字要求\n",
    "def matchInput(self, city):\n",
    "    m = re.match(r'^[\\u4E00-\\u9FA5]{2,5}$', city)\n",
    "    if m == None:\n",
    "        return False\n",
    "    return True\n",
    "\n",
    " else:\n",
    "            self.record.append(city)\n",
    "            return city"
   ]
  },
  {
   "cell_type": "code",
   "execution_count": 3,
   "metadata": {},
   "outputs": [
    {
     "ename": "SyntaxError",
     "evalue": "'return' outside function (<ipython-input-3-cc46f934d9ce>, line 13)",
     "output_type": "error",
     "traceback": [
      "\u001b[0;36m  File \u001b[0;32m\"<ipython-input-3-cc46f934d9ce>\"\u001b[0;36m, line \u001b[0;32m13\u001b[0m\n\u001b[0;31m    return city\u001b[0m\n\u001b[0m    ^\u001b[0m\n\u001b[0;31mSyntaxError\u001b[0m\u001b[0;31m:\u001b[0m 'return' outside function\n"
     ]
    }
   ],
   "source": []
  },
  {
   "cell_type": "code",
   "execution_count": null,
   "metadata": {
    "collapsed": true
   },
   "outputs": [],
   "source": []
  }
 ],
 "metadata": {
  "kernelspec": {
   "display_name": "Python 3",
   "language": "python",
   "name": "python3"
  },
  "language_info": {
   "codemirror_mode": {
    "name": "ipython",
    "version": 3
   },
   "file_extension": ".py",
   "mimetype": "text/x-python",
   "name": "python",
   "nbconvert_exporter": "python",
   "pygments_lexer": "ipython3",
   "version": "3.6.1"
  }
 },
 "nbformat": 4,
 "nbformat_minor": 2
}
