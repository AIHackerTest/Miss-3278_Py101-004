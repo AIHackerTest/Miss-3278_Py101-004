{
 "cells": [
  {
   "cell_type": "markdown",
   "metadata": {},
   "source": [
    "### Google 到的代码 [记录用Python写的两段脚本 ](https://googleyixia.com/2013/07/10/learn-python-in-my-way/)"
   ]
  },
  {
   "cell_type": "code",
   "execution_count": 7,
   "metadata": {},
   "outputs": [
    {
     "name": "stdout",
     "output_type": "stream",
     "text": [
      "这是一个简易记事本，随便输入些什么，另起一行输入\"EOF\"保存：\n",
      "0987\n",
      "EOF\n",
      "刚刚写的内容保存在a_simple_txt.txt中...\n"
     ]
    }
   ],
   "source": [
    "###### coding:utf-8\n",
    "import os\n",
    "print('这是一个简易记事本，随便输入些什么，另起一行输入\"EOF\"保存：')\n",
    "txt = open('a_simple_txt.txt','a')\n",
    "aha = True\n",
    "while aha:\n",
    "    t = input()\n",
    "    if t != 'EOF':\n",
    "        txt.write('%s %s' % (t,os.linesep))\n",
    "        aha = True\n",
    "    else:\n",
    "        txt.close()\n",
    "        print('刚刚写的内容保存在a_simple_txt.txt中...')\n",
    "        aha = False\n"
   ]
  },
  {
   "cell_type": "code",
   "execution_count": 12,
   "metadata": {},
   "outputs": [
    {
     "name": "stdout",
     "output_type": "stream",
     "text": [
      "请输入您要查询的城市名称： 武汉\n",
      "请输入您要查询的城市名称： 沈阳\n",
      "请输入您要查询的城市名称： 长春\n",
      "请输入您要查询的城市名称： bye\n"
     ]
    }
   ],
   "source": [
    "import os\n",
    "\n",
    "inputFile = open(\"record.txt\", 'a')\n",
    "aha = True\n",
    "while aha:\n",
    "    city = input(\"请输入您要查询的城市名称： \")\n",
    "    if city != \"bye\":\n",
    "        inputFile.write('%s %s' % (city, os.linesep))\n",
    "    else:\n",
    "        inputFile.close()\n",
    "        aha = False\n",
    "        "
   ]
  },
  {
   "cell_type": "code",
   "execution_count": 1,
   "metadata": {},
   "outputs": [
    {
     "data": {
      "text/plain": [
       "{1, 2, 3, 4}"
      ]
     },
     "execution_count": 1,
     "metadata": {},
     "output_type": "execute_result"
    }
   ],
   "source": [
    "a = [1, 2, 3 , 4, 1, 2]\n",
    "set(a)"
   ]
  },
  {
   "cell_type": "code",
   "execution_count": 3,
   "metadata": {},
   "outputs": [
    {
     "name": "stdout",
     "output_type": "stream",
     "text": [
      "'北京 --> 晴', '沈阳 --> 中雪', '武汉 --> 小雨', '北京 --> 晴'\n",
      "\n",
      "[\"'北京 --> 晴'\", \" '沈阳 --> 中雪'\", \" '武汉 --> 小雨'\", \" '北京 --> 晴'\"]\n",
      "[[\"'北京 --> 晴'\", \" '沈阳 --> 中雪'\", \" '武汉 --> 小雨'\", \" '北京 --> 晴'\"]]\n",
      "[[\"'北京 --> 晴'\", \" '沈阳 --> 中雪'\", \" '武汉 --> 小雨'\", \" '北京 --> 晴'\"], [\"'北京 --> 晴'\", \" '沈阳 --> 中雪'\", \" '武汉 --> 小雨'\", \" '北京 --> 晴'\"]]\n"
     ]
    }
   ],
   "source": [
    "A = ['北京 --> 晴', '沈阳 --> 中雪', '武汉 --> 小雨', '北京 --> 晴']\n",
    "pre = str(A)\n",
    "pre=pre.replace(\"[\",\"\")\n",
    "pre=pre.replace(\"]\",\"\")+\"\\n\"\n",
    "print (pre)\n",
    "f=open(\"a.txt\",\"w\")\n",
    "f.write(pre)\n",
    "f.write(pre)\n",
    "f.close()\n",
    "f=open(\"a.txt\",\"r\")\n",
    "i=f.readline() #读取文件内容\n",
    "i=i.replace(\"\\n\",\"\")\n",
    "Li=i.split(\",\")\n",
    "f.close()\n",
    "print (Li)\n",
    "      \n",
    "result=[]\n",
    "with open(\"a.txt\",\"r\") as f:\n",
    "    for line in f:\n",
    "        line=line.replace(\"\\n\",\"\")\n",
    "        result.append(line.split(\",\"))\n",
    "        print(result)\n",
    "\n",
    "\n"
   ]
  },
  {
   "cell_type": "code",
   "execution_count": null,
   "metadata": {
    "collapsed": true
   },
   "outputs": [],
   "source": [
    "l=[]  \n",
    "for line in fileinput.input(r'D:\\snowDocument\\original.txt'):  \n",
    "    if re.search(p2,line) :  \n",
    "            line = line.split()[0].split('-')[1]  \n",
    "  \n",
    "            line = line.replace('(','')  \n",
    "            line =line.replace(')','')  \n",
    "            print line.decode('utf-8')  \n",
    "            l.append(line)  \n",
    "##            line.replace('|')  \n",
    "##    print len(l)  "
   ]
  },
  {
   "cell_type": "code",
   "execution_count": 5,
   "metadata": {},
   "outputs": [
    {
     "name": "stdout",
     "output_type": "stream",
     "text": [
      "{'3', '2', '4', '1'}\n",
      "['1', '2', '3', '4']\n"
     ]
    }
   ],
   "source": [
    "s = set('12342212')                                                       \n",
    "print(s)   # set(['1', '3', '2', '4'])                                       \n",
    "l = list(s)                                                                     \n",
    "l.sort()    # 排序                                            \n",
    "print(l)    # ['1', '2', '3', '4']   "
   ]
  },
  {
   "cell_type": "code",
   "execution_count": null,
   "metadata": {
    "collapsed": true
   },
   "outputs": [],
   "source": [
    "elif City == 'h' or City == 'help':\n",
    "            print('帮助')"
   ]
  }
 ],
 "metadata": {
  "kernelspec": {
   "display_name": "Python 3",
   "language": "python",
   "name": "python3"
  },
  "language_info": {
   "codemirror_mode": {
    "name": "ipython",
    "version": 3
   },
   "file_extension": ".py",
   "mimetype": "text/x-python",
   "name": "python",
   "nbconvert_exporter": "python",
   "pygments_lexer": "ipython3",
   "version": "3.6.1"
  }
 },
 "nbformat": 4,
 "nbformat_minor": 2
}
